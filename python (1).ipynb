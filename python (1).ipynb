{
 "cells": [
  {
   "cell_type": "code",
   "execution_count": 1,
   "id": "a2df0d20",
   "metadata": {},
   "outputs": [
    {
     "name": "stdout",
     "output_type": "stream",
     "text": [
      "enter a number1\n",
      "enter a number15\n",
      "12\n",
      "PYTHON IS THE BEST LANGUAGE IN A MILKY WAY\n"
     ]
    }
   ],
   "source": [
    "import sys\n",
    "import random\n",
    "import time\n",
    "a=int(input(\"enter a number\"))\n",
    "b=int(input(\"enter a number\"))\n",
    "c=random.randint(a,b)\n",
    "print(c)\n",
    "time.sleep(c)\n",
    "print(\"PYTHON IS THE BEST LANGUAGE IN A MILKY WAY\")\n"
   ]
  },
  {
   "cell_type": "code",
   "execution_count": null,
   "id": "957e9c2e",
   "metadata": {},
   "outputs": [],
   "source": []
  }
 ],
 "metadata": {
  "kernelspec": {
   "display_name": "Python 3 (ipykernel)",
   "language": "python",
   "name": "python3"
  },
  "language_info": {
   "codemirror_mode": {
    "name": "ipython",
    "version": 3
   },
   "file_extension": ".py",
   "mimetype": "text/x-python",
   "name": "python",
   "nbconvert_exporter": "python",
   "pygments_lexer": "ipython3",
   "version": "3.9.13"
  }
 },
 "nbformat": 4,
 "nbformat_minor": 5
}
